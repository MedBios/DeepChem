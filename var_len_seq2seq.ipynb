{
 "cells": [
  {
   "cell_type": "code",
   "execution_count": 51,
   "metadata": {},
   "outputs": [],
   "source": [
    "import os\n",
    "import numpy as np\n",
    "import random\n",
    "from math import log, ceil\n",
    "\n",
    "import torch\n",
    "import torch.nn as nn\n",
    "from torch import optim\n",
    "import torch.nn.functional as F"
   ]
  },
  {
   "cell_type": "code",
   "execution_count": 20,
   "metadata": {},
   "outputs": [
    {
     "name": "stdout",
     "output_type": "stream",
     "text": [
      "cuda\n"
     ]
    }
   ],
   "source": [
    "device = torch.device(\"cuda\" if torch.cuda.is_available() else \"cpu\")\n",
    "print(device)"
   ]
  },
  {
   "cell_type": "code",
   "execution_count": 13,
   "metadata": {},
   "outputs": [],
   "source": [
    "f = open(\"fra-eng/fra.txt\", \"r\")"
   ]
  },
  {
   "cell_type": "code",
   "execution_count": 14,
   "metadata": {},
   "outputs": [],
   "source": [
    "lines = [line.strip(\"\\n\").split(\"\\t\") for line in f]"
   ]
  },
  {
   "cell_type": "code",
   "execution_count": 15,
   "metadata": {},
   "outputs": [],
   "source": [
    "lang1 = [x[0] for x in lines]\n",
    "lang2 = [x[1] for x in lines]"
   ]
  },
  {
   "cell_type": "code",
   "execution_count": 67,
   "metadata": {
    "scrolled": true
   },
   "outputs": [],
   "source": [
    "def get_batch(lang1, lang2, alphabet1, alphabet2, num_samples):\n",
    "    sample = random.sample(range(len(lang1)), num_samples)\n",
    "    lang1_sample = [lang1[i] for i in sample]\n",
    "    lang2_sample = [lang2[i] for i in sample]\n",
    "    maxlen1, maxlen2 = max(map(len, lang1_sample)), max(map(len, lang2_sample))\n",
    "    lang1_sample = [[alphabet1[i] for i in x.ljust(maxlen1, chr(0))] for x in lang1_sample]\n",
    "    lang2_sample = [[alphabet2[i] for i in x.ljust(maxlen2, chr(0))] for x in lang2_sample]\n",
    "    return np.asarray(lang1_sample), np.asarray(lang2_sample)"
   ]
  },
  {
   "cell_type": "code",
   "execution_count": 68,
   "metadata": {},
   "outputs": [],
   "source": [
    "def build_alphabet_converter(instances):\n",
    "    chars = set.union(*map(set, instances))\n",
    "    converter = dict(zip(chars, range(1, len(chars) + 1)))\n",
    "    converter[chr(0)] = 0\n",
    "    return converter"
   ]
  },
  {
   "cell_type": "code",
   "execution_count": 69,
   "metadata": {},
   "outputs": [],
   "source": [
    "alpha1 = build_alphabet_converter(lang1)\n",
    "alpha2 = build_alphabet_converter(lang2)"
   ]
  },
  {
   "cell_type": "code",
   "execution_count": 76,
   "metadata": {},
   "outputs": [
    {
     "name": "stdout",
     "output_type": "stream",
     "text": [
      "(10, 49) (10, 53)\n"
     ]
    }
   ],
   "source": [
    "x, y = get_batch(lang1, lang2, alpha1, alpha2, 10)\n",
    "print(x.shape, y.shape)"
   ]
  },
  {
   "cell_type": "code",
   "execution_count": null,
   "metadata": {},
   "outputs": [],
   "source": []
  },
  {
   "cell_type": "code",
   "execution_count": 59,
   "metadata": {},
   "outputs": [],
   "source": [
    "def build_alphabet_converter_2d(instances):\n",
    "    chars = set.union(*map(set, instances))\n",
    "    max_len = ceil(log(len(chars) + 1, 2))\n",
    "    binary_strings = [list(map(int, bin(i)[2:].rjust(max_len, '0'))) for i in range(1, len(chars) + 1)]\n",
    "    converter = dict(zip(chars, binary_strings))\n",
    "    converter[chr(0)] = [0] * max_len\n",
    "    return converter"
   ]
  },
  {
   "cell_type": "code",
   "execution_count": null,
   "metadata": {},
   "outputs": [],
   "source": []
  },
  {
   "cell_type": "code",
   "execution_count": null,
   "metadata": {},
   "outputs": [],
   "source": []
  },
  {
   "cell_type": "code",
   "execution_count": null,
   "metadata": {},
   "outputs": [],
   "source": []
  }
 ],
 "metadata": {
  "kernelspec": {
   "display_name": "Python 3",
   "language": "python",
   "name": "python3"
  },
  "language_info": {
   "codemirror_mode": {
    "name": "ipython",
    "version": 3
   },
   "file_extension": ".py",
   "mimetype": "text/x-python",
   "name": "python",
   "nbconvert_exporter": "python",
   "pygments_lexer": "ipython3",
   "version": "3.5.2"
  }
 },
 "nbformat": 4,
 "nbformat_minor": 2
}
