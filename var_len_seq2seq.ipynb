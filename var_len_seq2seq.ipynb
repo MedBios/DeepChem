{
 "cells": [
  {
   "cell_type": "code",
   "execution_count": 2,
   "metadata": {},
   "outputs": [],
   "source": [
    "import os\n",
    "import numpy as np\n",
    "import random\n",
    "from math import log, ceil\n",
    "\n",
    "import torch\n",
    "import torch.nn as nn\n",
    "from torch import optim\n",
    "import torch.nn.functional as F"
   ]
  },
  {
   "cell_type": "code",
   "execution_count": 4,
   "metadata": {},
   "outputs": [
    {
     "name": "stdout",
     "output_type": "stream",
     "text": [
      "cuda\n"
     ]
    }
   ],
   "source": [
    "device = torch.device(\"cuda\" if torch.cuda.is_available() else \"cpu\")\n",
    "print(device)"
   ]
  },
  {
   "cell_type": "code",
   "execution_count": 5,
   "metadata": {},
   "outputs": [],
   "source": [
    "pad_chr = chr(0)\n",
    "start_chr = chr(1)\n",
    "end_chr = chr(2)"
   ]
  },
  {
   "cell_type": "code",
   "execution_count": 6,
   "metadata": {},
   "outputs": [],
   "source": [
    "f = open(\"fra-eng/fra.txt\", \"r\")"
   ]
  },
  {
   "cell_type": "code",
   "execution_count": 7,
   "metadata": {},
   "outputs": [],
   "source": [
    "lines = [line.strip(\"\\n\").split(\"\\t\") for line in f]"
   ]
  },
  {
   "cell_type": "code",
   "execution_count": 8,
   "metadata": {},
   "outputs": [],
   "source": [
    "lang1 = [x[0] for x in lines]\n",
    "lang2 = [x[1] for x in lines]"
   ]
  },
  {
   "cell_type": "code",
   "execution_count": 22,
   "metadata": {
    "scrolled": true
   },
   "outputs": [],
   "source": [
    "def get_batch(lang1, lang2, alphabet1, alphabet2, num_samples):\n",
    "    sample = random.sample(range(len(lang1)), num_samples)\n",
    "    \n",
    "    lang1_sample = [lang1[i] + end_chr for i in sample]\n",
    "    lang2_in_sample = [start_chr + lang2[i] for i in sample]\n",
    "    lang2_out_sample = [lang2[i] + end_chr for i in sample]\n",
    "    \n",
    "    maxlen1, maxlen2 = max(map(len, lang1_sample)), max(map(len, lang2_in_sample))\n",
    "    \n",
    "    lang1_sample = [[alphabet1[i] for i in x.ljust(maxlen1, pad_chr)] for x in lang1_sample]\n",
    "    lang2_in_sample = [[alphabet2[i] for i in x.ljust(maxlen2, pad_chr)] for x in lang2_in_sample]\n",
    "    lang2_out_sample = [[alphabet2[i] for i in x.ljust(maxlen2, pad_chr)] for x in lang2_out_sample]\n",
    "    \n",
    "    #dimensions order: (text length, batch size, channels)\n",
    "    lang1_sample = np.transpose(np.asarray(lang1_sample), (1, 0, 2))\n",
    "    lang2_in_sample = np.transpose(np.asarray(lang2_in_sample), (1, 0, 2))\n",
    "    lang2_out_sample = np.transpose(np.asarray(lang2_out_sample), (1, 0, 2))\n",
    "    \n",
    "    return lang1_sample, lang2_in_sample, lang2_out_sample"
   ]
  },
  {
   "cell_type": "code",
   "execution_count": 23,
   "metadata": {},
   "outputs": [],
   "source": [
    "def get_max_len(instances):\n",
    "    return max(map(lambda x: len(x) + 1, instances))"
   ]
  },
  {
   "cell_type": "code",
   "execution_count": 10,
   "metadata": {},
   "outputs": [],
   "source": [
    "def build_alphabet_converter(instances):\n",
    "    chars = set.union(*map(set, instances))\n",
    "    converter = dict(zip(chars, range(3, len(chars) + 3)))\n",
    "    converter[pad_chr] = 0\n",
    "    converter[start_chr] = 1\n",
    "    converter[end_chr] = 2\n",
    "    return converter"
   ]
  },
  {
   "cell_type": "code",
   "execution_count": 11,
   "metadata": {},
   "outputs": [],
   "source": [
    "def build_alphabet_converter_2d(instances):\n",
    "    chars = set.union(*map(set, instances))\n",
    "    max_len = ceil(log(len(chars) + 3, 2))\n",
    "    binary_strings = [list(map(int, bin(i)[2:].rjust(max_len, '0'))) for i in range(3, len(chars) + 3)]\n",
    "    converter = dict(zip(chars, binary_strings))\n",
    "    converter[pad_chr] = [0] * max_len\n",
    "    \n",
    "    start_val = [0] * (max_len - 1)\n",
    "    start_val.append(1)\n",
    "    converter[start_chr] = start_val\n",
    "    \n",
    "    end_val = [0] * (max_len - 2)\n",
    "    end_val.extend([1, 0])\n",
    "    converter[end_chr] = end_val\n",
    "    \n",
    "    return converter"
   ]
  },
  {
   "cell_type": "code",
   "execution_count": 28,
   "metadata": {},
   "outputs": [],
   "source": [
    "alpha1 = build_alphabet_converter_2d(lang1)\n",
    "alpha2 = build_alphabet_converter_2d(lang2)\n",
    "\n",
    "max_lang1 = get_max_len(lang1)\n",
    "max_lang2 = get_max_len(lang2)"
   ]
  },
  {
   "cell_type": "code",
   "execution_count": 21,
   "metadata": {},
   "outputs": [
    {
     "name": "stdout",
     "output_type": "stream",
     "text": [
      "(71, 100, 7) (76, 100, 7) (76, 100, 7)\n"
     ]
    }
   ],
   "source": [
    "x, y_in, y_out = get_batch(lang1, lang2, alpha1, alpha2, 100)\n",
    "print(x.shape, y_in.shape, y_out.shape)"
   ]
  },
  {
   "cell_type": "code",
   "execution_count": 14,
   "metadata": {},
   "outputs": [],
   "source": [
    "class EncoderRNN(nn.Module):\n",
    "    def __init__(self, input_size, hidden_size):\n",
    "        super(EncoderRNN, self).__init__()\n",
    "        self.hidden_size = hidden_size\n",
    "        self.gru = nn.GRU(input_size, hidden_size)\n",
    "\n",
    "    def forward(self, input, hidden):\n",
    "        return self.gru(input, hidden)\n",
    "\n",
    "    def initHidden(self, batch_size):\n",
    "        return torch.zeros(1, batch_size, self.hidden_size, device=device)\n"
   ]
  },
  {
   "cell_type": "code",
   "execution_count": 17,
   "metadata": {},
   "outputs": [],
   "source": [
    "class DecoderRNN(nn.Module):\n",
    "    def __init__(self, hidden_size, output_size):\n",
    "        super(DecoderRNN, self).__init__()\n",
    "        self.hidden_size = hidden_size\n",
    "        \n",
    "        self.gru = nn.GRU(output_size, hidden_size)\n",
    "        self.out = nn.Linear(hidden_size, output_size)\n",
    "        #self.softmax = nn.LogSoftmax(dim=1)\n",
    "        self.sigmoid = nn.Sigmoid()\n",
    "\n",
    "    def forward(self, input, hidden):\n",
    "        output = F.relu(input)\n",
    "        output, hidden = self.gru(output, hidden)\n",
    "        output = self.sigmoid(self.out(output[0]))\n",
    "        return output, hidden\n",
    "\n",
    "    def initHidden(self, batch_size):\n",
    "        return torch.zeros(1, batch_size, self.hidden_size, device=device)"
   ]
  },
  {
   "cell_type": "code",
   "execution_count": 19,
   "metadata": {},
   "outputs": [],
   "source": [
    "teacher_forcing_ratio = 0.5"
   ]
  },
  {
   "cell_type": "code",
   "execution_count": null,
   "metadata": {},
   "outputs": [],
   "source": [
    "def train(x, y_in, y_out, encoder, decoder, encoder_optim, decoder_optim, criterion):\n",
    "    encoder_hidden = encoder.initHidden()\n",
    "    \n",
    "    encoder_optimizer.zero_grad()\n",
    "    decoder_optimizer.zero_grad()\n",
    "    \n",
    "    input_length = x.size(0)\n",
    "    target_length = y_in.size(0) #y_in and y_out are the same length\n",
    "    \n",
    "    #encoder_outputs = torch.zeros(input_length, encoder.hidden_size, device=device)\n",
    "    "
   ]
  },
  {
   "cell_type": "code",
   "execution_count": null,
   "metadata": {},
   "outputs": [],
   "source": []
  }
 ],
 "metadata": {
  "kernelspec": {
   "display_name": "Python 3",
   "language": "python",
   "name": "python3"
  },
  "language_info": {
   "codemirror_mode": {
    "name": "ipython",
    "version": 3
   },
   "file_extension": ".py",
   "mimetype": "text/x-python",
   "name": "python",
   "nbconvert_exporter": "python",
   "pygments_lexer": "ipython3",
   "version": "3.5.2"
  }
 },
 "nbformat": 4,
 "nbformat_minor": 2
}
