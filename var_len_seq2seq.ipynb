{
 "cells": [
  {
   "cell_type": "code",
   "execution_count": 19,
   "metadata": {},
   "outputs": [],
   "source": [
    "import os\n",
    "import numpy as np\n",
    "import random\n",
    "\n",
    "import torch\n",
    "import torch.nn as nn\n",
    "from torch import optim\n",
    "import torch.nn.functional as F"
   ]
  },
  {
   "cell_type": "code",
   "execution_count": 20,
   "metadata": {},
   "outputs": [
    {
     "name": "stdout",
     "output_type": "stream",
     "text": [
      "cuda\n"
     ]
    }
   ],
   "source": [
    "device = torch.device(\"cuda\" if torch.cuda.is_available() else \"cpu\")\n",
    "print(device)"
   ]
  },
  {
   "cell_type": "code",
   "execution_count": 13,
   "metadata": {},
   "outputs": [],
   "source": [
    "f = open(\"fra-eng/fra.txt\", \"r\")"
   ]
  },
  {
   "cell_type": "code",
   "execution_count": 14,
   "metadata": {},
   "outputs": [],
   "source": [
    "lines = [line.strip(\"\\n\").split(\"\\t\") for line in f]"
   ]
  },
  {
   "cell_type": "code",
   "execution_count": 15,
   "metadata": {},
   "outputs": [],
   "source": [
    "lang1 = [x[0] for x in lines]\n",
    "lang2 = [x[1] for x in lines]"
   ]
  },
  {
   "cell_type": "code",
   "execution_count": 21,
   "metadata": {
    "scrolled": true
   },
   "outputs": [
    {
     "data": {
      "text/plain": [
       "[[\"You don't seem so busy.\", \"Vous n'avez pas l'air si occupée.\"],\n",
       " ['These are bad times.', 'Nous vivons des temps difficiles.'],\n",
       " ['Read the instructions carefully.', 'Lis les instructions attentivement.'],\n",
       " ['Do you trust me?', 'Te fies-tu à moi ?'],\n",
       " ['Tom is likely to be enjoying that.', 'Ça va probablement plaire à Tom.'],\n",
       " ['She asked me to pick her up at the station.',\n",
       "  \"Elle me demanda d'aller la chercher à la gare.\"],\n",
       " ['Go away.', 'Disparais !'],\n",
       " ['I was forced to go.', \"J'ai été forcé à y aller.\"],\n",
       " ['The difference between the right word and almost the right word is the difference between lightning and the lightning bug.',\n",
       "  'La différence entre un « mot juste » et un « mot presque juste » est comme la différence entre un éclair et un éclair au chocolat.'],\n",
       " [\"It's not worth the money.\", \"Ça n'en vaut pas la dépense.\"],\n",
       " [\"I don't date.\", 'Je ne sors pas avec des garçons.'],\n",
       " ['I want this to be yours.', 'Je veux que ce soit le tien.'],\n",
       " ['I put my hat on.', \"J'ai mis mon chapeau.\"],\n",
       " ['I went out even though it was raining.', \"Je sortis, bien qu'il plut.\"],\n",
       " ['We should go home.', 'Nous devrions rentrer chez nous.'],\n",
       " ['Should we wait?', 'Devrions-nous attendre ?'],\n",
       " [\"Tom doesn't want to go anywhere today.\",\n",
       "  \"Tom n'a envie d'aller nulle part aujourd'hui.\"],\n",
       " ['It will be finished in a day or two.',\n",
       "  'Ce sera fini dans un jour ou deux.'],\n",
       " ['I asked him if he would return soon.',\n",
       "  \"Je lui ai demandé s'il revenait bientôt.\"],\n",
       " ['Father took his place at the head of the table and began to say grace.',\n",
       "  'Père pris place au bout de la table et entama le bénédicité.'],\n",
       " [\"I don't like being told what to do.\",\n",
       "  \"Je n'aime pas qu'on me dise quoi faire.\"],\n",
       " [\"I want to know why you're doing this.\",\n",
       "  'Je veux savoir pourquoi vous faites ceci.'],\n",
       " ['The same applies here.', 'Il en va de même ici.'],\n",
       " ['Wait right here.', 'Attendez précisément ici.'],\n",
       " [\"That doesn't mean you shouldn't be careful.\",\n",
       "  'Ça ne signifie pas que vous ne devriez pas être prudent.'],\n",
       " ['Look what I did.', \"Regarde ce que j'ai fait !\"],\n",
       " ['I want to be very clear about that.',\n",
       "  'Je veux être très clair à ce propos.'],\n",
       " [\"I'd like something to eat.\", 'Je mangerais bien quelque chose.'],\n",
       " ['It was his decision.', \"C'était sa décision.\"],\n",
       " ['They did not keep their word.', 'Elles ne tinrent pas parole.'],\n",
       " ['My grandfather goes for walks on days when the weather is good.',\n",
       "  'Mon grand-père fait des promenades quand il fait beau.'],\n",
       " [\"There's no danger.\", \"Il n'y a aucun danger.\"],\n",
       " [\"I don't have a home.\", \"Je n'ai pas de chez moi.\"],\n",
       " ['The novel is worthy of praise.', 'Le roman mérite des éloges.'],\n",
       " [\"I don't think I've heard that word in a long time.\",\n",
       "  'Je ne pense pas avoir entendu ce mot depuis bien longtemps.'],\n",
       " ['This is yours.', \"Il s'agit du vôtre.\"],\n",
       " ['The train got in on time.', 'Le train est arrivé à temps.'],\n",
       " ['Instant noodles are a staple among college students.',\n",
       "  \"Les nouilles instantanées sont la base de l'alimentation parmi les élèves des collèges.\"],\n",
       " [\"She always says nice things about him, especially when he's around.\",\n",
       "  \"Elle dit toujours de chouettes trucs sur lui, particulièrement lorsqu'il est dans les parages.\"],\n",
       " ['I want a car that runs on solar power.',\n",
       "  \"Je veux un véhicule qui fonctionne à l'énergie solaire.\"],\n",
       " [\"I'll leave it up to you.\", \"Je t'en laisserai la décision.\"],\n",
       " ['Can you lend me a little money?', \"Pouvez-vous me prêter un peu d'argent?\"],\n",
       " ['We need to make sure that this is true.',\n",
       "  'Nous devons nous assurer que ceci est vrai.'],\n",
       " [\"I'm working on a new song.\", 'Je travaille sur une nouvelle chanson.'],\n",
       " ['Do we need them that badly?', 'En avons-nous tant besoin ?'],\n",
       " [\"Don't try to be a hero now.\", \"N'essaye pas de jouer le héros maintenant.\"],\n",
       " ['We wish you a pleasant journey.',\n",
       "  'Nous vous souhaitons un agréable voyage.'],\n",
       " [\"I haven't had much sleep.\", \"Je n'ai pas eu beaucoup de sommeil.\"],\n",
       " ['The woman who he thought was his aunt was a stranger.',\n",
       "  \"La femme qu'il prenait pour sa tante, était une étrangère.\"],\n",
       " [\"I had a part-time job as a hotel maid, but I didn't like it very much.\",\n",
       "  \"J'avais un emploi à temps partiel comme femme de chambre dans un hôtel, mais je n'aimais pas beaucoup ça.\"]]"
      ]
     },
     "execution_count": 21,
     "metadata": {},
     "output_type": "execute_result"
    }
   ],
   "source": [
    "def get_batch(data, num_samples):\n",
    "    sample = random.sample(data, num_samples)\n",
    "    lang1 = [x[0] for x in sample]\n",
    "    lang2 = [x[1] for x in sample]\n",
    "    maxlen = map(len)"
   ]
  },
  {
   "cell_type": "code",
   "execution_count": null,
   "metadata": {},
   "outputs": [],
   "source": [
    "def get_alphabet(instances):\n",
    "    return set.union(map(set, instances))"
   ]
  }
 ],
 "metadata": {
  "kernelspec": {
   "display_name": "Python 3",
   "language": "python",
   "name": "python3"
  },
  "language_info": {
   "codemirror_mode": {
    "name": "ipython",
    "version": 3
   },
   "file_extension": ".py",
   "mimetype": "text/x-python",
   "name": "python",
   "nbconvert_exporter": "python",
   "pygments_lexer": "ipython3",
   "version": "3.5.2"
  }
 },
 "nbformat": 4,
 "nbformat_minor": 2
}
