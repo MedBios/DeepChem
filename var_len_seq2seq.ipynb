{
 "cells": [
  {
   "cell_type": "code",
   "execution_count": 15,
   "metadata": {},
   "outputs": [],
   "source": [
    "import os\n",
    "import numpy as np\n",
    "import random\n",
    "import math\n",
    "import time\n",
    "from math import log, ceil\n",
    "\n",
    "import torch\n",
    "import torch.nn as nn\n",
    "from torch import optim\n",
    "import torch.nn.functional as F"
   ]
  },
  {
   "cell_type": "code",
   "execution_count": 2,
   "metadata": {},
   "outputs": [
    {
     "name": "stdout",
     "output_type": "stream",
     "text": [
      "cuda\n"
     ]
    }
   ],
   "source": [
    "device = torch.device(\"cuda\" if torch.cuda.is_available() else \"cpu\")\n",
    "print(device)"
   ]
  },
  {
   "cell_type": "code",
   "execution_count": 3,
   "metadata": {},
   "outputs": [],
   "source": [
    "pad_chr = chr(0)\n",
    "start_chr = chr(1)\n",
    "end_chr = chr(2)"
   ]
  },
  {
   "cell_type": "code",
   "execution_count": 7,
   "metadata": {
    "scrolled": true
   },
   "outputs": [],
   "source": [
    "def get_batch(lang1, lang2, alphabet1, alphabet2, num_samples):\n",
    "    sample = random.sample(range(len(lang1)), num_samples)\n",
    "    \n",
    "    lang1_sample = [lang1[i] + end_chr for i in sample]\n",
    "    lang2_in_sample = [start_chr + lang2[i] for i in sample]\n",
    "    lang2_out_sample = [lang2[i] + end_chr for i in sample]\n",
    "    \n",
    "    #store the lengths of each sentence\n",
    "    len1, len2 = list(map(len, lang1_sample)), list(map(len, lang2_out_sample))\n",
    "    maxlen1, maxlen2 = max(len1), max(len2)\n",
    "    \n",
    "    lang1_sample = [[alphabet1[i] for i in x.ljust(maxlen1, pad_chr)] for x in lang1_sample]\n",
    "    lang2_in_sample = [[alphabet2[i] for i in x.ljust(maxlen2, pad_chr)] for x in lang2_in_sample]\n",
    "    lang2_out_sample = [[alphabet2[i] for i in x.ljust(maxlen2, pad_chr)] for x in lang2_out_sample]\n",
    "    \n",
    "    #dimensions order: (text length, batch size, channels)\n",
    "    lang1_sample = np.transpose(np.asarray(lang1_sample), (1, 0, 2))\n",
    "    lang2_in_sample = np.transpose(np.asarray(lang2_in_sample), (1, 0, 2))\n",
    "    lang2_out_sample = np.transpose(np.asarray(lang2_out_sample), (1, 0, 2))\n",
    "    \n",
    "    return lang1_sample, lang2_in_sample, lang2_out_sample, len1, len2"
   ]
  },
  {
   "cell_type": "code",
   "execution_count": 8,
   "metadata": {},
   "outputs": [],
   "source": [
    "def get_max_len(instances):\n",
    "    return max(map(lambda x: len(x) + 1, instances))"
   ]
  },
  {
   "cell_type": "code",
   "execution_count": 9,
   "metadata": {},
   "outputs": [],
   "source": [
    "def build_alphabet_converter(instances):\n",
    "    chars = set.union(*map(set, instances))\n",
    "    converter = dict(zip(chars, range(3, len(chars) + 3)))\n",
    "    converter[pad_chr] = 0\n",
    "    converter[start_chr] = 1\n",
    "    converter[end_chr] = 2\n",
    "    return converter"
   ]
  },
  {
   "cell_type": "code",
   "execution_count": 10,
   "metadata": {},
   "outputs": [],
   "source": [
    "def build_alphabet_converter_2d(instances):\n",
    "    chars = set.union(*map(set, instances))\n",
    "    max_len = ceil(log(len(chars) + 3, 2))\n",
    "    binary_strings = [list(map(int, bin(i)[2:].rjust(max_len, '0'))) for i in range(3, len(chars) + 3)]\n",
    "    converter = dict(zip(chars, binary_strings))\n",
    "    converter[pad_chr] = [0] * max_len\n",
    "    \n",
    "    start_val = [0] * (max_len - 1)\n",
    "    start_val.append(1)\n",
    "    converter[start_chr] = start_val\n",
    "    \n",
    "    end_val = [0] * (max_len - 2)\n",
    "    end_val.extend([1, 0])\n",
    "    converter[end_chr] = end_val\n",
    "    \n",
    "    return converter"
   ]
  },
  {
   "cell_type": "code",
   "execution_count": 14,
   "metadata": {},
   "outputs": [],
   "source": [
    "class EncoderRNN(nn.Module):\n",
    "    def __init__(self, input_size, hidden_size):\n",
    "        super(EncoderRNN, self).__init__()\n",
    "        self.hidden_size = hidden_size\n",
    "        self.gru = nn.GRU(input_size, hidden_size)\n",
    "\n",
    "    def forward(self, input, hidden):\n",
    "        return self.gru(input, hidden)\n",
    "\n",
    "    def initHidden(self, batch_size):\n",
    "        return torch.zeros(1, batch_size, self.hidden_size, device=device)\n"
   ]
  },
  {
   "cell_type": "code",
   "execution_count": null,
   "metadata": {},
   "outputs": [],
   "source": [
    "class DecoderRNN(nn.Module):\n",
    "    def __init__(self, hidden_size, output_size):\n",
    "        super(DecoderRNN, self).__init__()\n",
    "        self.hidden_size = hidden_size\n",
    "        \n",
    "        self.gru = nn.GRU(output_size, hidden_size)\n",
    "        self.out = nn.Linear(hidden_size, output_size)\n",
    "        #self.softmax = nn.LogSoftmax(dim=1)\n",
    "        self.sigmoid = nn.Sigmoid()\n",
    "\n",
    "    def forward(self, input, hidden):\n",
    "        output = F.relu(input)\n",
    "        output, hidden = self.gru(output, hidden)\n",
    "        output = self.sigmoid(self.out(output[0]))\n",
    "        return output, hidden\n",
    "\n",
    "    def initHidden(self, batch_size):\n",
    "        return torch.zeros(1, batch_size, self.hidden_size, device=device)"
   ]
  },
  {
   "cell_type": "code",
   "execution_count": 14,
   "metadata": {},
   "outputs": [],
   "source": [
    "teacher_forcing_ratio = 0.5"
   ]
  },
  {
   "cell_type": "code",
   "execution_count": 15,
   "metadata": {},
   "outputs": [],
   "source": [
    "def train(x, y_in, y_out, x_len, y_len, encoder, decoder, encoder_optim, decoder_optim, criterion):\n",
    "    encoder_hidden = encoder.initHidden()\n",
    "    \n",
    "    encoder_optimizer.zero_grad()\n",
    "    decoder_optimizer.zero_grad()\n",
    "    \n",
    "    input_length = x.size(0)\n",
    "    target_length = y_in.size(0) #y_in and y_out are the same length\n",
    "    \n",
    "    #encoder_outputs = torch.zeros(input_length, encoder.hidden_size, device=device)\n",
    "    \n",
    "    loss = 0\n",
    "    \n",
    "    for i in range(x_len):\n",
    "        encoder_output, encoder_hidden = encoder(x[i], encoder_hidden)\n",
    "    \n",
    "    decoder_hidden = encoder_hidden\n",
    "    \n",
    "    if random.random() < teacher_forcing_ratio:\n",
    "        for i in range(y_len):\n",
    "            decoder_output, decoder_hidden = decoder(y_in[i], decoder_hidden)\n",
    "            loss += criterion(decoder_output, y_out[i])\n",
    "    else:\n",
    "        decoder_input = y_in[0]\n",
    "        for i in range(y_len):\n",
    "            decoder_output, decoder_hidden = decoder(decoder_input, decoder_hidden)\n",
    "            decoder_input = decoder_output.round().detach()\n",
    "            loss += criterion(decoder_output, y_out[i])\n",
    "      \n",
    "    #TODO: Loss masking!!!\n",
    "    loss.backward()\n",
    "    \n",
    "    encoder_optimizer.step()\n",
    "    decoder_optimizer.step()\n",
    "    \n",
    "    return loss.item() / y_len"
   ]
  },
  {
   "cell_type": "code",
   "execution_count": 16,
   "metadata": {},
   "outputs": [],
   "source": [
    "def asMinutes(s):\n",
    "    m = math.floor(s / 60)\n",
    "    s -= m * 60\n",
    "    return '%dm %ds' % (m, s)\n",
    "\n",
    "\n",
    "def timeSince(since, percent):\n",
    "    now = time.time()\n",
    "    s = now - since\n",
    "    es = s / (percent)\n",
    "    rs = es - s\n",
    "    return '%s (- %s)' % (asMinutes(s), asMinutes(rs))"
   ]
  },
  {
   "cell_type": "code",
   "execution_count": 4,
   "metadata": {},
   "outputs": [],
   "source": [
    "f = open(\"fra-eng/fra.txt\", \"r\")"
   ]
  },
  {
   "cell_type": "code",
   "execution_count": 5,
   "metadata": {},
   "outputs": [],
   "source": [
    "lines = [line.strip(\"\\n\").split(\"\\t\") for line in f]"
   ]
  },
  {
   "cell_type": "code",
   "execution_count": 11,
   "metadata": {},
   "outputs": [],
   "source": [
    "alpha1 = build_alphabet_converter_2d(lang1)\n",
    "alpha2 = build_alphabet_converter_2d(lang2)\n",
    "\n",
    "max_lang1 = get_max_len(lang1)\n",
    "max_lang2 = get_max_len(lang2)"
   ]
  },
  {
   "cell_type": "code",
   "execution_count": 6,
   "metadata": {},
   "outputs": [],
   "source": [
    "lang1 = [x[0] for x in lines]\n",
    "lang2 = [x[1] for x in lines]"
   ]
  },
  {
   "cell_type": "code",
   "execution_count": 13,
   "metadata": {},
   "outputs": [
    {
     "name": "stdout",
     "output_type": "stream",
     "text": [
      "(60, 100, 7) (67, 100, 7) (67, 100, 7) 100 100\n"
     ]
    }
   ],
   "source": [
    "x, y_in, y_out, x_len, y_len = get_batch(lang1, lang2, alpha1, alpha2, 100)\n",
    "print(x.shape, y_in.shape, y_out.shape, len(x_len), len(y_len))"
   ]
  },
  {
   "cell_type": "code",
   "execution_count": null,
   "metadata": {},
   "outputs": [],
   "source": [
    "def trainIters(encoder, decoder, n_iters, print_every=1000, plot_every=100, learning_rate=0.01):\n",
    "    start = time.time()\n",
    "    plot_losses = []\n",
    "    print_loss_total = 0\n",
    "    plot_loss_total = 0\n",
    "    \n",
    "    encoder_optimizer = optim.SGD(encoder.parameters(), lr=learning_rate)\n",
    "    decoder_optimizer = optim.SGD(decoder.parameters(), lr=learning_rate)\n",
    "    \n",
    "    criterion = nn.NLLLoss()\n",
    "    \n",
    "    for i in range(1, n_iters + 1):\n",
    "        x, y_in, y_out, x_len, y_len = get_batch(lang1, lang2, alpha1, alpha2, batch_size)\n",
    "        loss = train(x, y_in, y_out, x_len, y_len, encoder, decoder, encoder_optimizer, decoder_optimizer, criterion)\n",
    "        \n",
    "        print_loss_total += loss\n",
    "        plot_loss_total += loss"
   ]
  },
  {
   "cell_type": "code",
   "execution_count": 16,
   "metadata": {},
   "outputs": [
    {
     "data": {
      "text/plain": [
       "287"
      ]
     },
     "execution_count": 16,
     "metadata": {},
     "output_type": "execute_result"
    }
   ],
   "source": [
    "max_lang1"
   ]
  },
  {
   "cell_type": "code",
   "execution_count": null,
   "metadata": {},
   "outputs": [],
   "source": []
  }
 ],
 "metadata": {
  "kernelspec": {
   "display_name": "Python 3",
   "language": "python",
   "name": "python3"
  },
  "language_info": {
   "codemirror_mode": {
    "name": "ipython",
    "version": 3
   },
   "file_extension": ".py",
   "mimetype": "text/x-python",
   "name": "python",
   "nbconvert_exporter": "python",
   "pygments_lexer": "ipython3",
   "version": "3.5.2"
  }
 },
 "nbformat": 4,
 "nbformat_minor": 2
}
