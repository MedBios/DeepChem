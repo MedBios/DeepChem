{
 "cells": [
  {
   "cell_type": "code",
   "execution_count": 51,
   "metadata": {},
   "outputs": [],
   "source": [
    "import os\n",
    "import numpy as np\n",
    "import random\n",
    "from math import log, ceil\n",
    "\n",
    "import torch\n",
    "import torch.nn as nn\n",
    "from torch import optim\n",
    "import torch.nn.functional as F"
   ]
  },
  {
   "cell_type": "code",
   "execution_count": 20,
   "metadata": {},
   "outputs": [
    {
     "name": "stdout",
     "output_type": "stream",
     "text": [
      "cuda\n"
     ]
    }
   ],
   "source": [
    "device = torch.device(\"cuda\" if torch.cuda.is_available() else \"cpu\")\n",
    "print(device)"
   ]
  },
  {
   "cell_type": "code",
   "execution_count": 104,
   "metadata": {},
   "outputs": [],
   "source": [
    "pad_chr = chr(0)\n",
    "start_chr = chr(1)\n",
    "end_chr = chr(2)"
   ]
  },
  {
   "cell_type": "code",
   "execution_count": 13,
   "metadata": {},
   "outputs": [],
   "source": [
    "f = open(\"fra-eng/fra.txt\", \"r\")"
   ]
  },
  {
   "cell_type": "code",
   "execution_count": 14,
   "metadata": {},
   "outputs": [],
   "source": [
    "lines = [line.strip(\"\\n\").split(\"\\t\") for line in f]"
   ]
  },
  {
   "cell_type": "code",
   "execution_count": 15,
   "metadata": {},
   "outputs": [],
   "source": [
    "lang1 = [x[0] for x in lines]\n",
    "lang2 = [x[1] for x in lines]"
   ]
  },
  {
   "cell_type": "code",
   "execution_count": 115,
   "metadata": {
    "scrolled": true
   },
   "outputs": [],
   "source": [
    "def get_batch(lang1, lang2, alphabet1, alphabet2, num_samples):\n",
    "    sample = random.sample(range(len(lang1)), num_samples)\n",
    "    lang1_sample = [lang1[i] + end_chr for i in sample]\n",
    "    lang2_in_sample = [start_chr + lang2[i] for i in sample]\n",
    "    lang2_out_sample = [lang2[i] + end_chr for i in sample]\n",
    "    maxlen1, maxlen2 = max(map(len, lang1_sample)), max(map(len, lang2_in_sample))\n",
    "    lang1_sample = [[alphabet1[i] for i in x.ljust(maxlen1, pad_chr)] for x in lang1_sample]\n",
    "    lang2_in_sample = [[alphabet2[i] for i in x.ljust(maxlen2, pad_chr)] for x in lang2_in_sample]\n",
    "    lang2_out_sample = [[alphabet2[i] for i in x.ljust(maxlen2, pad_chr)] for x in lang2_out_sample]\n",
    "    return np.asarray(lang1_sample), np.asarray(lang2_in_sample), np.asarray(lang2_out_sample)"
   ]
  },
  {
   "cell_type": "code",
   "execution_count": 116,
   "metadata": {},
   "outputs": [],
   "source": [
    "def build_alphabet_converter(instances):\n",
    "    chars = set.union(*map(set, instances))\n",
    "    converter = dict(zip(chars, range(3, len(chars) + 3)))\n",
    "    converter[pad_chr] = 0\n",
    "    converter[start_chr] = 1\n",
    "    converter[end_chr] = 2\n",
    "    return converter"
   ]
  },
  {
   "cell_type": "code",
   "execution_count": 133,
   "metadata": {},
   "outputs": [],
   "source": [
    "def build_alphabet_converter_2d(instances):\n",
    "    chars = set.union(*map(set, instances))\n",
    "    max_len = ceil(log(len(chars) + 3, 2))\n",
    "    binary_strings = [list(map(int, bin(i)[2:].rjust(max_len, '0'))) for i in range(3, len(chars) + 3)]\n",
    "    converter = dict(zip(chars, binary_strings))\n",
    "    converter[pad_chr] = [0] * max_len\n",
    "    \n",
    "    start_val = [0] * (max_len - 1)\n",
    "    start_val.append(1)\n",
    "    converter[start_chr] = start_val\n",
    "    \n",
    "    end_val = [0] * (max_len - 2)\n",
    "    end_val.extend([1, 0])\n",
    "    converter[end_chr] = end_val\n",
    "    \n",
    "    return converter"
   ]
  },
  {
   "cell_type": "code",
   "execution_count": 134,
   "metadata": {},
   "outputs": [],
   "source": [
    "alpha1 = build_alphabet_converter_2d(lang1)\n",
    "alpha2 = build_alphabet_converter_2d(lang2)"
   ]
  },
  {
   "cell_type": "code",
   "execution_count": 138,
   "metadata": {},
   "outputs": [
    {
     "name": "stdout",
     "output_type": "stream",
     "text": [
      "(100, 95, 7) (100, 91, 7) (100, 91, 7)\n"
     ]
    }
   ],
   "source": [
    "x, y_in, y_out = get_batch(lang1, lang2, alpha1, alpha2, 100)\n",
    "print(x.shape, y_in.shape, y_out.shape)"
   ]
  },
  {
   "cell_type": "code",
   "execution_count": null,
   "metadata": {},
   "outputs": [],
   "source": []
  },
  {
   "cell_type": "code",
   "execution_count": null,
   "metadata": {},
   "outputs": [],
   "source": []
  },
  {
   "cell_type": "code",
   "execution_count": null,
   "metadata": {},
   "outputs": [],
   "source": []
  }
 ],
 "metadata": {
  "kernelspec": {
   "display_name": "Python 3",
   "language": "python",
   "name": "python3"
  },
  "language_info": {
   "codemirror_mode": {
    "name": "ipython",
    "version": 3
   },
   "file_extension": ".py",
   "mimetype": "text/x-python",
   "name": "python",
   "nbconvert_exporter": "python",
   "pygments_lexer": "ipython3",
   "version": "3.5.2"
  }
 },
 "nbformat": 4,
 "nbformat_minor": 2
}
