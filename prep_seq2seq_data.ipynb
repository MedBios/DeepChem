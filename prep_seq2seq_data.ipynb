{
 "cells": [
  {
   "cell_type": "markdown",
   "metadata": {},
   "source": [
    "# Extract SMILES, IUPAC from Pubchem XML Files\n",
    "## Zip of data on Google Drive"
   ]
  },
  {
   "cell_type": "code",
   "execution_count": 1,
   "metadata": {
    "collapsed": true
   },
   "outputs": [],
   "source": [
    "import os\n",
    "import gzip\n",
    "import xml.etree.ElementTree as ET"
   ]
  },
  {
   "cell_type": "code",
   "execution_count": 16,
   "metadata": {
    "collapsed": true
   },
   "outputs": [],
   "source": [
    "path = \"/media/external/pubchem_compound_2d/XML/\"\n",
    "out_path = \"/media/external/pubchem_compound_2d/SMILES_IUPAC_CSV/\"\n",
    "files = os.listdir(path)"
   ]
  },
  {
   "cell_type": "code",
   "execution_count": 5,
   "metadata": {},
   "outputs": [
    {
     "name": "stdout",
     "output_type": "stream",
     "text": [
      "5392\n",
      "Compound_042475001_042500000.xml.gz\n"
     ]
    }
   ],
   "source": [
    "print(len(files))\n",
    "print(files[0])"
   ]
  },
  {
   "cell_type": "code",
   "execution_count": null,
   "metadata": {},
   "outputs": [
    {
     "name": "stdout",
     "output_type": "stream",
     "text": [
      "Compound_042475001_042500000.xml.gz 7654 added, 168 skipped.\n",
      "Compound_035725001_035750000.xml.gz 1841 added, 0 skipped.\n",
      "Compound_069275001_069300000.xml.gz 24111 added, 254 skipped.\n",
      "Compound_062900001_062925000.xml.gz 24996 added, 4 skipped.\n",
      "Compound_009575001_009600000.xml.gz 24218 added, 331 skipped.\n",
      "Compound_079175001_079200000.xml.gz 24995 added, 5 skipped.\n",
      "Compound_020750001_020775000.xml.gz 19739 added, 840 skipped.\n",
      "Compound_069150001_069175000.xml.gz 24006 added, 324 skipped.\n",
      "Compound_056350001_056375000.xml.gz 24978 added, 22 skipped.\n",
      "Compound_068100001_068125000.xml.gz 22752 added, 620 skipped.\n",
      "Compound_122225001_122250000.xml.gz 23829 added, 1130 skipped.\n",
      "Compound_102950001_102975000.xml.gz 24961 added, 39 skipped.\n",
      "Compound_047225001_047250000.xml.gz 3967 added, 1 skipped.\n",
      "Compound_021125001_021150000.xml.gz 21240 added, 933 skipped.\n",
      "Compound_003725001_003750000.xml.gz 22748 added, 1050 skipped.\n",
      "Compound_040100001_040125000.xml.gz 6573 added, 7 skipped.\n",
      "Compound_094500001_094525000.xml.gz 2089 added, 1 skipped.\n",
      "Compound_126800001_126825000.xml.gz 24942 added, 57 skipped.\n"
     ]
    }
   ],
   "source": [
    "for f in files:\n",
    "    #read XML file\n",
    "    unzipped = gzip.open(path + f, 'rb')\n",
    "    lines = unzipped.read()\n",
    "    splitlines = lines.decode().split(\"\\n\")\n",
    "    unzipped.close()\n",
    "    \n",
    "    #open csv\n",
    "    outfile = open(out_path + f, 'w')\n",
    "    outfile.write(\"id,SMILES,IUPAC\\n\")\n",
    "    \n",
    "    records_counter, failed_counter = 0, 0\n",
    "    \n",
    "    start_line = 0\n",
    "    while \"<PC-Compound>\" not in splitlines[start_line]:\n",
    "        start_line += 1\n",
    "        \n",
    "    line = start_line\n",
    "    while \"</PC-Compounds>\" not in splitlines[line]:\n",
    "        start_line = line\n",
    "        while \"</PC-Compound>\" not in splitlines[line]:\n",
    "            line += 1\n",
    "        compound_lines = \"\\n\".join(splitlines[start_line:line+1])\n",
    "        line += 1\n",
    "        \n",
    "        #build tree of XML tags\n",
    "        child = ET.fromstring(compound_lines)\n",
    "    \n",
    "        #get pubchem CID (first record)\n",
    "        id = int(child[0][0][0][0].text)\n",
    "\n",
    "        #find which group has molecule properties (SMILES / IUPAC)\n",
    "        props = \"\"\n",
    "        for group in child:\n",
    "            if \"PC-Compound_props\" in group.tag:\n",
    "                props = group\n",
    "\n",
    "        #Get SMILES, IUPAC\n",
    "        smiles, iupac = \"\", \"\"\n",
    "        for infodata in props:\n",
    "            label = infodata[0][0][0]\n",
    "            name = infodata[0][0][1]\n",
    "            value = infodata[1]\n",
    "            if label.text == \"IUPAC Name\" and name.text == \"Allowed\":\n",
    "                iupac = value[0].text\n",
    "            if label.text == \"SMILES\" and name.text == \"Canonical\":\n",
    "                smiles = value[0].text\n",
    "\n",
    "        if len(smiles) == 0 or len(iupac) == 0:\n",
    "            failed_counter += 1\n",
    "            #print(\"error reading, skipping\", id)\n",
    "            #print(smiles, iupac)\n",
    "        else:\n",
    "            records_counter += 1\n",
    "            outfile.write(str(id) + \",\" + smiles + \",\" + iupac + \"\\n\")\n",
    "\n",
    "    outfile.close()\n",
    "    print(f, records_counter, \"added,\", failed_counter, \"skipped.\")"
   ]
  },
  {
   "cell_type": "code",
   "execution_count": null,
   "metadata": {
    "collapsed": true
   },
   "outputs": [],
   "source": []
  }
 ],
 "metadata": {
  "kernelspec": {
   "display_name": "Python 3",
   "language": "python",
   "name": "python3"
  },
  "language_info": {
   "codemirror_mode": {
    "name": "ipython",
    "version": 3
   },
   "file_extension": ".py",
   "mimetype": "text/x-python",
   "name": "python",
   "nbconvert_exporter": "python",
   "pygments_lexer": "ipython3",
   "version": "3.6.3"
  }
 },
 "nbformat": 4,
 "nbformat_minor": 2
}
